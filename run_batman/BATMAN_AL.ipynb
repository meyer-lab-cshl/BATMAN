{
  "nbformat": 4,
  "nbformat_minor": 0,
  "metadata": {
    "colab": {
      "provenance": []
    },
    "kernelspec": {
      "name": "python3",
      "display_name": "Python 3"
    },
    "language_info": {
      "name": "python"
    }
  },
  "cells": [
    {
      "cell_type": "code",
      "source": [
        "!git clone https://github.com/meyer-lab-cshl/BATMAN.git\n",
        "%cd BATMAN/run_batman"
      ],
      "metadata": {
        "colab": {
          "base_uri": "https://localhost:8080/"
        },
        "collapsed": true,
        "id": "QiQK4ZZkBRLN",
        "outputId": "37cff665-71e2-4c6d-cfa9-639708d51b99"
      },
      "execution_count": 1,
      "outputs": [
        {
          "output_type": "stream",
          "name": "stdout",
          "text": [
            "Cloning into 'BATMAN'...\n",
            "remote: Enumerating objects: 211, done.\u001b[K\n",
            "remote: Counting objects: 100% (123/123), done.\u001b[K\n",
            "remote: Compressing objects: 100% (78/78), done.\u001b[K\n",
            "remote: Total 211 (delta 67), reused 93 (delta 45), pack-reused 88\u001b[K\n",
            "Receiving objects: 100% (211/211), 1.27 MiB | 13.01 MiB/s, done.\n",
            "Resolving deltas: 100% (83/83), done.\n",
            "/content/BATMAN/run_batman\n"
          ]
        }
      ]
    },
    {
      "cell_type": "code",
      "source": [
        "from active_learning_functions import train,active_learning_cycle,return_peptides_to_sample\n",
        "from active_learning_functions import generate_mutant_features,peptide2index\n",
        "import numpy as np\n",
        "import pandas as pd"
      ],
      "metadata": {
        "id": "AFdyKUwVfk9O"
      },
      "execution_count": 8,
      "outputs": []
    },
    {
      "cell_type": "code",
      "source": [
        "# Read full dataset for all TCRs\n",
        "full_peptide_data = pd.read_csv('test_input.csv')"
      ],
      "metadata": {
        "id": "-0WFAPmfin35"
      },
      "execution_count": 22,
      "outputs": []
    },
    {
      "cell_type": "code",
      "source": [
        "# We split full data into train and test, leaving one TCR out\n",
        "left_out_TCR = 'TCR1'\n",
        "\n",
        "# Split and save train and test data\n",
        "train_data = full_peptide_data[full_peptide_data.tcr!=left_out_TCR].copy()\n",
        "# The trick to name all TCRs the same so that BATMAN gives a single weight profile\n",
        "train_data.tcr = 'pan-TCR'\n",
        "train_data.to_csv('train.csv')\n",
        "\n",
        "test_data = full_peptide_data[full_peptide_data.tcr==left_out_TCR]\n",
        "test_data.to_csv('test.csv')"
      ],
      "metadata": {
        "id": "2dfWhGj4ixm4"
      },
      "execution_count": 23,
      "outputs": []
    },
    {
      "cell_type": "code",
      "source": [
        "# (Note that for some reason, pyBATMAN is not able to load AA matrix data, so we load it explicitly)\n",
        "aa_matrix = pd.read_csv('blosum100.csv', index_col=0)"
      ],
      "metadata": {
        "id": "tdZeqw7Gi2uT"
      },
      "execution_count": 24,
      "outputs": []
    },
    {
      "cell_type": "code",
      "source": [
        "################# Pan TCR #################################################\n",
        "# Train BATMAN to infer pan-TCR weights and AA distance matrix\n",
        "inferred_weights_pan,_,inferred_matrix_pan = train('train.csv',\n",
        "                                                   'full',\n",
        "                                                   aa_matrix,\n",
        "                                                   steps = 80000,\n",
        "                                                   seed = 100)"
      ],
      "metadata": {
        "colab": {
          "base_uri": "https://localhost:8080/",
          "height": 109
        },
        "id": "AmAsxItlfGK5",
        "outputId": "709cf850-34b6-4be6-c797-6bf5e62a4fc6"
      },
      "execution_count": 25,
      "outputs": [
        {
          "output_type": "stream",
          "name": "stderr",
          "text": [
            "/usr/local/lib/python3.10/dist-packages/pymc/distributions/transforms.py:58: FutureWarning: univariate_ordered has been deprecated, use ordered instead.\n",
            "  warnings.warn(f\"{name} has been deprecated, use ordered instead.\", FutureWarning)\n"
          ]
        },
        {
          "output_type": "display_data",
          "data": {
            "text/plain": [
              "<IPython.core.display.HTML object>"
            ],
            "text/html": [
              "\n",
              "<style>\n",
              "    /* Turns off some styling */\n",
              "    progress {\n",
              "        /* gets rid of default border in Firefox and Opera. */\n",
              "        border: none;\n",
              "        /* Needs to be in here for Safari polyfill so background images work as expected. */\n",
              "        background-size: auto;\n",
              "    }\n",
              "    progress:not([value]), progress:not([value])::-webkit-progress-bar {\n",
              "        background: repeating-linear-gradient(45deg, #7e7e7e, #7e7e7e 10px, #5c5c5c 10px, #5c5c5c 20px);\n",
              "    }\n",
              "    .progress-bar-interrupted, .progress-bar-interrupted::-webkit-progress-bar {\n",
              "        background: #F44336;\n",
              "    }\n",
              "</style>\n"
            ]
          },
          "metadata": {}
        },
        {
          "output_type": "display_data",
          "data": {
            "text/plain": [
              "<IPython.core.display.HTML object>"
            ],
            "text/html": [
              "\n",
              "    <div>\n",
              "      <progress value='80000' class='' max='80000' style='width:300px; height:20px; vertical-align: middle;'></progress>\n",
              "      100.00% [80000/80000 01:57&lt;00:00 Average Loss = 1,008]\n",
              "    </div>\n",
              "    "
            ]
          },
          "metadata": {}
        },
        {
          "output_type": "stream",
          "name": "stderr",
          "text": [
            "Shape validation failed: input_shape: (1, 50000), minimum_shape: (chains=2, draws=4)\n"
          ]
        }
      ]
    },
    {
      "cell_type": "code",
      "source": [
        "# Enter index peptide for the new TCR\n",
        "index_peptide_candidate_TCR = 'NLVPMVATV'\n",
        "\n",
        "# Round 1: Return peptides to sample\n",
        "al_peptides = return_peptides_to_sample(index_peptide_candidate_TCR, # index peptide\n",
        "                              inferred_matrix_pan, # AA matrix to find distance\n",
        "                              inferred_weights_pan.to_numpy() # positional weights\n",
        "                              )"
      ],
      "metadata": {
        "id": "4uhBlhGNgAQU"
      },
      "execution_count": 26,
      "outputs": []
    },
    {
      "cell_type": "code",
      "source": [
        "# sample peptides\n",
        "al_train_set = test_data.loc[test_data['peptide'].isin(al_peptides)].copy()\n",
        "al_train_index = test_data.loc[test_data['peptide']==index_peptide_candidate_TCR].copy()\n",
        "al_train_set = pd.concat([al_train_set,al_train_index])\n",
        "\n",
        "al_test_set = test_data.loc[test_data['peptide'].isin(al_train_set['peptide'])==False].copy()"
      ],
      "metadata": {
        "id": "UR3gDt0fgKma"
      },
      "execution_count": 27,
      "outputs": []
    },
    {
      "cell_type": "code",
      "source": [
        "# run AL: round 1\n",
        "w_al,auc_mean = active_learning_cycle(\n",
        "    al_train_set,al_test_set,\n",
        "    inferred_matrix_pan,\n",
        "    inferred_weights_pan.to_numpy(),\n",
        "    steps=40000,\n",
        "    seed=111)"
      ],
      "metadata": {
        "colab": {
          "base_uri": "https://localhost:8080/",
          "height": 109
        },
        "id": "aZWLVU0MgPoY",
        "outputId": "9ed45afa-8c7d-4ffb-a584-24f47afcd302"
      },
      "execution_count": 28,
      "outputs": [
        {
          "output_type": "stream",
          "name": "stderr",
          "text": [
            "/usr/local/lib/python3.10/dist-packages/pymc/distributions/transforms.py:58: FutureWarning: univariate_ordered has been deprecated, use ordered instead.\n",
            "  warnings.warn(f\"{name} has been deprecated, use ordered instead.\", FutureWarning)\n"
          ]
        },
        {
          "output_type": "display_data",
          "data": {
            "text/plain": [
              "<IPython.core.display.HTML object>"
            ],
            "text/html": [
              "\n",
              "<style>\n",
              "    /* Turns off some styling */\n",
              "    progress {\n",
              "        /* gets rid of default border in Firefox and Opera. */\n",
              "        border: none;\n",
              "        /* Needs to be in here for Safari polyfill so background images work as expected. */\n",
              "        background-size: auto;\n",
              "    }\n",
              "    progress:not([value]), progress:not([value])::-webkit-progress-bar {\n",
              "        background: repeating-linear-gradient(45deg, #7e7e7e, #7e7e7e 10px, #5c5c5c 10px, #5c5c5c 20px);\n",
              "    }\n",
              "    .progress-bar-interrupted, .progress-bar-interrupted::-webkit-progress-bar {\n",
              "        background: #F44336;\n",
              "    }\n",
              "</style>\n"
            ]
          },
          "metadata": {}
        },
        {
          "output_type": "display_data",
          "data": {
            "text/plain": [
              "<IPython.core.display.HTML object>"
            ],
            "text/html": [
              "\n",
              "    <div>\n",
              "      <progress value='40000' class='' max='40000' style='width:300px; height:20px; vertical-align: middle;'></progress>\n",
              "      100.00% [40000/40000 00:17&lt;00:00 Average Loss = 20.162]\n",
              "    </div>\n",
              "    "
            ]
          },
          "metadata": {}
        },
        {
          "output_type": "stream",
          "name": "stderr",
          "text": [
            "Shape validation failed: input_shape: (1, 50000), minimum_shape: (chains=2, draws=4)\n"
          ]
        }
      ]
    },
    {
      "cell_type": "code",
      "source": [
        "# AL results: round 1\n",
        "print(w_al)\n",
        "print(auc_mean)"
      ],
      "metadata": {
        "colab": {
          "base_uri": "https://localhost:8080/"
        },
        "id": "tiWjeT1dimxx",
        "outputId": "2c5a3f3d-980e-4455-c5c6-39fbf5da7f9d"
      },
      "execution_count": 29,
      "outputs": [
        {
          "output_type": "stream",
          "name": "stdout",
          "text": [
            "[[0.00734312 0.31842457 0.50267023 0.21028037 0.32109479 0.40720961\n",
            "  0.22162884 1.         0.        ]]\n",
            "0.5939345504753758\n"
          ]
        }
      ]
    },
    {
      "cell_type": "code",
      "source": [
        "# Round 2: Return peptides to sample\n",
        "al_peptides = return_peptides_to_sample(index_peptide_candidate_TCR, # index peptide\n",
        "                              inferred_matrix_pan, # AA matrix to find distance\n",
        "                              w_al, # positional weights\n",
        "                              al_train_set['peptide'].tolist())\n",
        "# Get labels for new peptides\n",
        "al_train_set_addition = test_data.loc[test_data['peptide'].isin(al_peptides)].copy()\n",
        "\n",
        "# New train and test set\n",
        "al_train_set = pd.concat([al_train_set,al_train_set_addition])\n",
        "al_test_set = test_data.loc[test_data['peptide'].isin(al_train_set['peptide'])==False].copy()"
      ],
      "metadata": {
        "id": "6GxWLPmqktoy"
      },
      "execution_count": 30,
      "outputs": []
    },
    {
      "cell_type": "code",
      "source": [
        "# run AL: round 2\n",
        "w_al,auc_mean = active_learning_cycle(\n",
        "    al_train_set,al_test_set,\n",
        "    inferred_matrix_pan,\n",
        "    w_al,\n",
        "    steps=40000,\n",
        "    seed=111)"
      ],
      "metadata": {
        "colab": {
          "base_uri": "https://localhost:8080/",
          "height": 109
        },
        "id": "FOMGmCqvlGAf",
        "outputId": "29786271-3044-4ca9-baa2-dc105d13ad58"
      },
      "execution_count": 31,
      "outputs": [
        {
          "output_type": "stream",
          "name": "stderr",
          "text": [
            "/usr/local/lib/python3.10/dist-packages/pymc/distributions/transforms.py:58: FutureWarning: univariate_ordered has been deprecated, use ordered instead.\n",
            "  warnings.warn(f\"{name} has been deprecated, use ordered instead.\", FutureWarning)\n"
          ]
        },
        {
          "output_type": "display_data",
          "data": {
            "text/plain": [
              "<IPython.core.display.HTML object>"
            ],
            "text/html": [
              "\n",
              "<style>\n",
              "    /* Turns off some styling */\n",
              "    progress {\n",
              "        /* gets rid of default border in Firefox and Opera. */\n",
              "        border: none;\n",
              "        /* Needs to be in here for Safari polyfill so background images work as expected. */\n",
              "        background-size: auto;\n",
              "    }\n",
              "    progress:not([value]), progress:not([value])::-webkit-progress-bar {\n",
              "        background: repeating-linear-gradient(45deg, #7e7e7e, #7e7e7e 10px, #5c5c5c 10px, #5c5c5c 20px);\n",
              "    }\n",
              "    .progress-bar-interrupted, .progress-bar-interrupted::-webkit-progress-bar {\n",
              "        background: #F44336;\n",
              "    }\n",
              "</style>\n"
            ]
          },
          "metadata": {}
        },
        {
          "output_type": "display_data",
          "data": {
            "text/plain": [
              "<IPython.core.display.HTML object>"
            ],
            "text/html": [
              "\n",
              "    <div>\n",
              "      <progress value='40000' class='' max='40000' style='width:300px; height:20px; vertical-align: middle;'></progress>\n",
              "      100.00% [40000/40000 00:18&lt;00:00 Average Loss = 27.832]\n",
              "    </div>\n",
              "    "
            ]
          },
          "metadata": {}
        },
        {
          "output_type": "stream",
          "name": "stderr",
          "text": [
            "Shape validation failed: input_shape: (1, 50000), minimum_shape: (chains=2, draws=4)\n"
          ]
        }
      ]
    },
    {
      "cell_type": "code",
      "source": [
        "# AL results: round 2\n",
        "print(w_al)\n",
        "print(auc_mean)"
      ],
      "metadata": {
        "colab": {
          "base_uri": "https://localhost:8080/"
        },
        "id": "liBjWvwjlzFj",
        "outputId": "5de91afa-a3e3-4fb5-bf4c-0f88ba348a8b"
      },
      "execution_count": 32,
      "outputs": [
        {
          "output_type": "stream",
          "name": "stdout",
          "text": [
            "[[0.         0.43308824 0.66397059 0.06323529 0.97205882 0.32573529\n",
            "  0.80367647 1.         0.18308824]]\n",
            "0.7583155270655272\n"
          ]
        }
      ]
    }
  ]
}