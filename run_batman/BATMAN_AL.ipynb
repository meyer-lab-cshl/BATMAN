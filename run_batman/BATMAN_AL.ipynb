{
  "nbformat": 4,
  "nbformat_minor": 0,
  "metadata": {
    "colab": {
      "provenance": []
    },
    "kernelspec": {
      "name": "python3",
      "display_name": "Python 3"
    },
    "language_info": {
      "name": "python"
    }
  },
  "cells": [
    {
      "cell_type": "markdown",
      "source": [
        "<a target=\"_blank\" href=\"https://colab.research.google.com/github/meyer-lab-cshl/BATMAN/blob/main/run_batman/BATMAN_AL.ipynb\"><img src=\"https://colab.research.google.com/assets/colab-badge.svg\" alt=\"Open In Colab\"/></a>&emsp;[![Binder](https://mybinder.org/badge_logo.svg)](https://mybinder.org/v2/gh/meyer-lab-cshl/BATMAN/HEAD?urlpath=https%3A%2F%2Fgithub.com%2Fmeyer-lab-cshl%2FBATMAN%2Fblob%2Fmain%2Frun_batman%2FBATMAN_AL.ipynb)&emsp;&emsp;[![PyPI version](https://badge.fury.io/py/pybatman.svg)](https://pypi.org/project/pybatman/)&emsp;[![License](https://img.shields.io/badge/License-BSD_3--Clause-blue.svg)](https://github.com/meyer-lab-cshl/BATMAN/blob/main/LICENSE)\n"
      ],
      "metadata": {
        "id": "st8kah0-f8ec"
      }
    },
    {
      "cell_type": "markdown",
      "source": [
        "**BATMAN-AL: Active Learning with BATMAN**\n",
        "\n",
        "\n",
        "---\n",
        "# Introduction\n",
        "Designing cross-reactivity assays for a novel TCR is challenging because the number of possible peptides to test increases exponentially with the number of mutations. Can we identify a small set of informative peptides within this space, whose binding information can be used to predict TCR activation to the many other peptides not assayed?\n"
      ],
      "metadata": {
        "id": "3TcZ4WzYp-LW"
      }
    },
    {
      "cell_type": "markdown",
      "source": [
        "We developed a BATMAN-guided active learning framework, which iteratively selects a small number of mutant peptides that provide the maximum information about the cross-reactivity of a novel TCR. In each experimental round, the TCR binding of a set of mutant peptides is determined experimentally, and then the binding results are fed-back to update the model, which subsequently picks the next set of maximally informative peptides to test in the next round, until predictive performance converges.\n",
        "\n",
        "In this notebook, we explore one one active learning strategy with BATMAN, which selects 9 peptides to test in each step."
      ],
      "metadata": {
        "id": "B2hP4afdtK9t"
      }
    },
    {
      "cell_type": "markdown",
      "source": [
        "For a basic introduction to different BATMAN functions, please go through the [pyBATMAN tutorial notebook](https://github.com/meyer-lab-cshl/BATMAN/blob/main/run_batman/pyBATMAN_Tutorial.ipynb) before running this one. This notebook uses custom funtions which have not yet been integrated with pyBATMAN package, so we will load them directly from the GitHub."
      ],
      "metadata": {
        "id": "fwHN94HirHyp"
      }
    },
    {
      "cell_type": "markdown",
      "source": [
        "# Load codes and dataset\n",
        "\n",
        "We clone the BATMAN git and go to the relevant folder containing active learning (AL) function and the TCR-peptide dataset. This is the same dataset we used in the [pyBATMAN tutorial notebook](https://github.com/meyer-lab-cshl/BATMAN/blob/main/run_batman/pyBATMAN_Tutorial.ipynb), so we will not describe it again here."
      ],
      "metadata": {
        "id": "fxztvBfjsS1f"
      }
    },
    {
      "cell_type": "code",
      "source": [
        "# Clone BATMAN GitHub\n",
        "!git clone https://github.com/meyer-lab-cshl/BATMAN.git\n",
        "\n",
        "# Go to the relevant directory with AL functions and data\n",
        "%cd BATMAN/run_batman"
      ],
      "metadata": {
        "colab": {
          "base_uri": "https://localhost:8080/"
        },
        "collapsed": true,
        "id": "QiQK4ZZkBRLN",
        "outputId": "1ae1dcda-2c03-41a3-c56b-1b98b3678fd0"
      },
      "execution_count": 1,
      "outputs": [
        {
          "output_type": "stream",
          "name": "stdout",
          "text": [
            "Cloning into 'BATMAN'...\n",
            "remote: Enumerating objects: 215, done.\u001b[K\n",
            "remote: Counting objects: 100% (127/127), done.\u001b[K\n",
            "remote: Compressing objects: 100% (82/82), done.\u001b[K\n",
            "remote: Total 215 (delta 69), reused 93 (delta 45), pack-reused 88\u001b[K\n",
            "Receiving objects: 100% (215/215), 1.27 MiB | 24.61 MiB/s, done.\n",
            "Resolving deltas: 100% (85/85), done.\n",
            "/content/BATMAN/run_batman\n"
          ]
        }
      ]
    },
    {
      "cell_type": "code",
      "source": [
        "# Load AL functions to use later\n",
        "from active_learning_functions import train,active_learning_cycle,return_peptides_to_sample\n",
        "from active_learning_functions import generate_mutant_features,peptide2index\n",
        "\n",
        "# Load basic python function for processing, analyzing, and plotting data\n",
        "import numpy as np\n",
        "import pandas as pd\n",
        "import matplotlib.pyplot as plt\n",
        "from sklearn.metrics import roc_curve, auc"
      ],
      "metadata": {
        "id": "AFdyKUwVfk9O"
      },
      "execution_count": 14,
      "outputs": []
    },
    {
      "cell_type": "code",
      "source": [
        "# Read full dataset for all TCRs\n",
        "full_peptide_data = pd.read_csv('test_input.csv')"
      ],
      "metadata": {
        "id": "-0WFAPmfin35"
      },
      "execution_count": 3,
      "outputs": []
    },
    {
      "cell_type": "markdown",
      "source": [
        "We will leave one TCR out from training, and pretend it to be the candidate TCR on which we want to perform AL. We will use activation data of as few peptides as possible to train BATMAN specifically for this \"novel\" TCR."
      ],
      "metadata": {
        "id": "KOSajZnXu_x1"
      }
    },
    {
      "cell_type": "code",
      "source": [
        "# We split full TCR data, leaving one TCR out (Here TCR2, but try changing it other TCRs in the dataset)\n",
        "left_out_TCR = 'TCR2'\n",
        "\n",
        "# Split and save train and test data\n",
        "train_data = full_peptide_data[full_peptide_data.tcr!=left_out_TCR].copy()\n",
        "\n",
        "# The trick to name all TCRs the same so that BATMAN gives a single weight profile\n",
        "train_data.tcr = 'pan-TCR'\n",
        "train_data.to_csv('train.csv') # save to csv for future use\n",
        "\n",
        "test_data = full_peptide_data[full_peptide_data.tcr==left_out_TCR]\n",
        "test_data.to_csv('test.csv') # save to csv for future use"
      ],
      "metadata": {
        "id": "2dfWhGj4ixm4"
      },
      "execution_count": 59,
      "outputs": []
    },
    {
      "cell_type": "code",
      "source": [
        "# Load the AA matrix to be used as a prior for pan-TCR BATMAN training\n",
        "aa_matrix = pd.read_csv('blosum100.csv', index_col=0)"
      ],
      "metadata": {
        "id": "tdZeqw7Gi2uT"
      },
      "execution_count": 60,
      "outputs": []
    },
    {
      "cell_type": "markdown",
      "source": [
        "# Initialization: BATMAN pan-TCR training\n",
        "We first train BATMAN in pan-TCR mode to learn pan-TCR positional weights and AA matrix."
      ],
      "metadata": {
        "id": "zMO13_HAw3a2"
      }
    },
    {
      "cell_type": "markdown",
      "source": [
        "Wait for a few minutes as BATMAN sets up the Bayesian model, after which you will be able to see the progress bar as BATMAN is being trained. Make sure to check that the loss function stabilizes, otherwise, increase the number of steps. Your patience will be rewarded!"
      ],
      "metadata": {
        "id": "ixnTSgDaxqgT"
      }
    },
    {
      "cell_type": "code",
      "source": [
        "################# Pan TCR #################################################\n",
        "# Train BATMAN to infer pan-TCR weights and AA distance matrix\n",
        "inferred_weights_pan,_,inferred_matrix_pan = train('train.csv',\n",
        "                                                   'full',\n",
        "                                                   aa_matrix,\n",
        "                                                   steps = 80000,\n",
        "                                                   seed = 100)"
      ],
      "metadata": {
        "colab": {
          "base_uri": "https://localhost:8080/",
          "height": 109
        },
        "id": "AmAsxItlfGK5",
        "outputId": "c9b1bbf7-4b74-4305-d782-200d1898b03c"
      },
      "execution_count": 61,
      "outputs": [
        {
          "output_type": "stream",
          "name": "stderr",
          "text": [
            "/usr/local/lib/python3.10/dist-packages/pymc/distributions/transforms.py:58: FutureWarning: univariate_ordered has been deprecated, use ordered instead.\n",
            "  warnings.warn(f\"{name} has been deprecated, use ordered instead.\", FutureWarning)\n"
          ]
        },
        {
          "output_type": "display_data",
          "data": {
            "text/plain": [
              "<IPython.core.display.HTML object>"
            ],
            "text/html": [
              "\n",
              "<style>\n",
              "    /* Turns off some styling */\n",
              "    progress {\n",
              "        /* gets rid of default border in Firefox and Opera. */\n",
              "        border: none;\n",
              "        /* Needs to be in here for Safari polyfill so background images work as expected. */\n",
              "        background-size: auto;\n",
              "    }\n",
              "    progress:not([value]), progress:not([value])::-webkit-progress-bar {\n",
              "        background: repeating-linear-gradient(45deg, #7e7e7e, #7e7e7e 10px, #5c5c5c 10px, #5c5c5c 20px);\n",
              "    }\n",
              "    .progress-bar-interrupted, .progress-bar-interrupted::-webkit-progress-bar {\n",
              "        background: #F44336;\n",
              "    }\n",
              "</style>\n"
            ]
          },
          "metadata": {}
        },
        {
          "output_type": "display_data",
          "data": {
            "text/plain": [
              "<IPython.core.display.HTML object>"
            ],
            "text/html": [
              "\n",
              "    <div>\n",
              "      <progress value='80000' class='' max='80000' style='width:300px; height:20px; vertical-align: middle;'></progress>\n",
              "      100.00% [80000/80000 01:48&lt;00:00 Average Loss = 1,020]\n",
              "    </div>\n",
              "    "
            ]
          },
          "metadata": {}
        },
        {
          "output_type": "stream",
          "name": "stderr",
          "text": [
            "Shape validation failed: input_shape: (1, 50000), minimum_shape: (chains=2, draws=4)\n"
          ]
        }
      ]
    },
    {
      "cell_type": "markdown",
      "source": [
        "Print and plot inferred pan-TCR positional weight profile."
      ],
      "metadata": {
        "id": "6pwzgwxbyryN"
      }
    },
    {
      "cell_type": "code",
      "source": [
        "# Print positional weight profile\n",
        "print(inferred_weights_pan)"
      ],
      "metadata": {
        "colab": {
          "base_uri": "https://localhost:8080/"
        },
        "id": "h_Sjj2VeyzgL",
        "outputId": "8494c384-aef7-49f1-ef57-a3bbbc92b7b2"
      },
      "execution_count": 62,
      "outputs": [
        {
          "output_type": "stream",
          "name": "stdout",
          "text": [
            "             0      1      2      3      4      5      6      7      8\n",
            "pan-TCR  0.052  0.087  0.229  0.225  0.464  0.487  0.308  0.017  0.071\n"
          ]
        }
      ]
    },
    {
      "cell_type": "code",
      "source": [
        "# Plot positional weight profile\n",
        "plt.bar(np.arange(9),inferred_weights_pan.loc['pan-TCR',])\n",
        "plt.xlabel('Position')\n",
        "plt.ylabel('Weight')"
      ],
      "metadata": {
        "colab": {
          "base_uri": "https://localhost:8080/",
          "height": 466
        },
        "id": "kSA6S-IQy5xZ",
        "outputId": "e1e5bbcb-baac-4559-d922-c9947b51509b"
      },
      "execution_count": 63,
      "outputs": [
        {
          "output_type": "execute_result",
          "data": {
            "text/plain": [
              "Text(0, 0.5, 'Weight')"
            ]
          },
          "metadata": {},
          "execution_count": 63
        },
        {
          "output_type": "display_data",
          "data": {
            "text/plain": [
              "<Figure size 640x480 with 1 Axes>"
            ],
            "image/png": "[encoded data removed]"
          },
          "metadata": {}
        }
      ]
    },
    {
      "cell_type": "markdown",
      "source": [
        "Finally, calculate the classification AUC for the peptides of the unseen TCR using pan-TCR weights. This is the baseline performance without performing any AL for the new TCR."
      ],
      "metadata": {
        "id": "U_U6_IJdziCk"
      }
    },
    {
      "cell_type": "code",
      "source": [
        "# Get peptide-to-index distance for mutants for the unseen TCR, using pan-TCR parameters\n",
        "mutant_distance_pan = peptide2index(test_data['index'].tolist(),\n",
        "                              test_data['peptide'].tolist(),\n",
        "                              inferred_matrix_pan,\n",
        "                              inferred_weights_pan.to_numpy())\n",
        "\n",
        "# Get AUC\n",
        "\n",
        "# Calculate pairwise AUC for AL-inferred distances\n",
        "fpr = dict()\n",
        "tpr = dict()\n",
        "auc_pan = np.zeros((1,3))\n",
        "for i in np.arange(0,3): #loop over class-pairs\n",
        "    fpr[i], tpr[i], _ = roc_curve(test_data.activation[test_data.activation !=i],\n",
        "                                  -mutant_distance_pan[test_data.activation !=i],\n",
        "                                  pos_label=max(set(np.arange(0,3)).difference({i})))\n",
        "    auc_pan[0,i] = auc(fpr[i], tpr[i])\n",
        "\n",
        "auc_mean = np.nanmean(auc_pan)\n",
        "print(auc_mean)"
      ],
      "metadata": {
        "colab": {
          "base_uri": "https://localhost:8080/"
        },
        "id": "2y7rUB5Z6VPI",
        "outputId": "3f7e0ea7-196c-4b83-df4b-67072c8bb458"
      },
      "execution_count": 64,
      "outputs": [
        {
          "output_type": "stream",
          "name": "stdout",
          "text": [
            "0.6554211456959218\n"
          ]
        }
      ]
    },
    {
      "cell_type": "markdown",
      "source": [
        "# Active Learning for the left out TCR"
      ],
      "metadata": {
        "id": "QcAheYzizW-r"
      }
    },
    {
      "cell_type": "markdown",
      "source": [
        "For the unseen TCR, we pick the first set of 9 peptides using the rule described in the Methods section of our preprint."
      ],
      "metadata": {
        "id": "kC6uEpk8_cYq"
      }
    },
    {
      "cell_type": "code",
      "source": [
        "# Enter index peptide for the new TCR\n",
        "index_peptide_candidate_TCR = np.unique(test_data['index'])[0]\n",
        "\n",
        "# Round 1: Return peptides to sample\n",
        "al_peptides = return_peptides_to_sample(index_peptide_candidate_TCR, # index peptide\n",
        "                              inferred_matrix_pan, # AA matrix to find distance\n",
        "                              inferred_weights_pan.to_numpy() # positional weights\n",
        "                              )\n",
        "print(al_peptides)"
      ],
      "metadata": {
        "id": "4uhBlhGNgAQU",
        "colab": {
          "base_uri": "https://localhost:8080/"
        },
        "outputId": "522e97fa-7bb4-4749-a1dd-46454d1a265a"
      },
      "execution_count": 65,
      "outputs": [
        {
          "output_type": "stream",
          "name": "stdout",
          "text": [
            "['LLVPMVATV' 'NHVPMVATV' 'NLMPMVATV' 'NLVEMVATV' 'NLVPLVATV' 'NLVPMLATV'\n",
            " 'NLVPMVGTV' 'NLVPMVAGV' 'NLVPMVATH']\n"
          ]
        }
      ]
    },
    {
      "cell_type": "markdown",
      "source": [
        "We see that we are sampling one mutant for each of the 9 possible mutation positions. In an experimental case, one would order these peptides and test them against the new TCR to check for their binding class. Here, we already have a test data file that contains the binding class of these mutants, so we will just use that information to proceed with the AL."
      ],
      "metadata": {
        "id": "bkcEZjr4_4Mh"
      }
    },
    {
      "cell_type": "code",
      "source": [
        "# Build AL training set with 9 sampled peptides\n",
        "al_train_set = test_data.loc[test_data['peptide'].isin(al_peptides)].copy()\n",
        "\n",
        "# Include the index peptide in the training set\n",
        "al_train_index = test_data.loc[test_data['peptide']==index_peptide_candidate_TCR].copy()\n",
        "al_train_set = pd.concat([al_train_set,al_train_index])\n",
        "\n",
        "# The rest of the mutants, 171-9=162 in number, constitute the test set\n",
        "al_test_set = test_data.loc[test_data['peptide'].isin(al_train_set['peptide'])==False].copy()"
      ],
      "metadata": {
        "id": "UR3gDt0fgKma"
      },
      "execution_count": 66,
      "outputs": []
    },
    {
      "cell_type": "markdown",
      "source": [
        "Now we will perform the first AL round with 10 peptides. For this, we will use the inferred pan-TCR AA matrix to calculate mutant distances, and inferred pan-TCR positional weights to construct the prior for the unseen TCR-specific weights."
      ],
      "metadata": {
        "id": "BjKpoWTYAy3y"
      }
    },
    {
      "cell_type": "code",
      "source": [
        "# run AL: round 1\n",
        "w_al,auc_mean = active_learning_cycle(\n",
        "    al_train_set,al_test_set, #train and test set\n",
        "    inferred_matrix_pan, #pan-TCR AA matrix\n",
        "    inferred_weights_pan.to_numpy(), #pan-TCR weights\n",
        "    steps=20000,\n",
        "    seed=111)"
      ],
      "metadata": {
        "colab": {
          "base_uri": "https://localhost:8080/",
          "height": 109
        },
        "id": "aZWLVU0MgPoY",
        "outputId": "c0a5af71-f9ba-4d42-dc31-c850f53ebd09"
      },
      "execution_count": 67,
      "outputs": [
        {
          "output_type": "stream",
          "name": "stderr",
          "text": [
            "/usr/local/lib/python3.10/dist-packages/pymc/distributions/transforms.py:58: FutureWarning: univariate_ordered has been deprecated, use ordered instead.\n",
            "  warnings.warn(f\"{name} has been deprecated, use ordered instead.\", FutureWarning)\n"
          ]
        },
        {
          "output_type": "display_data",
          "data": {
            "text/plain": [
              "<IPython.core.display.HTML object>"
            ],
            "text/html": [
              "\n",
              "<style>\n",
              "    /* Turns off some styling */\n",
              "    progress {\n",
              "        /* gets rid of default border in Firefox and Opera. */\n",
              "        border: none;\n",
              "        /* Needs to be in here for Safari polyfill so background images work as expected. */\n",
              "        background-size: auto;\n",
              "    }\n",
              "    progress:not([value]), progress:not([value])::-webkit-progress-bar {\n",
              "        background: repeating-linear-gradient(45deg, #7e7e7e, #7e7e7e 10px, #5c5c5c 10px, #5c5c5c 20px);\n",
              "    }\n",
              "    .progress-bar-interrupted, .progress-bar-interrupted::-webkit-progress-bar {\n",
              "        background: #F44336;\n",
              "    }\n",
              "</style>\n"
            ]
          },
          "metadata": {}
        },
        {
          "output_type": "display_data",
          "data": {
            "text/plain": [
              "<IPython.core.display.HTML object>"
            ],
            "text/html": [
              "\n",
              "    <div>\n",
              "      <progress value='20000' class='' max='20000' style='width:300px; height:20px; vertical-align: middle;'></progress>\n",
              "      100.00% [20000/20000 00:07&lt;00:00 Average Loss = 19.473]\n",
              "    </div>\n",
              "    "
            ]
          },
          "metadata": {}
        },
        {
          "output_type": "stream",
          "name": "stderr",
          "text": [
            "Shape validation failed: input_shape: (1, 50000), minimum_shape: (chains=2, draws=4)\n"
          ]
        }
      ]
    },
    {
      "cell_type": "markdown",
      "source": [
        "We plot the inferred TCR-specific weights and calculate test AUC after 1 round of active learning."
      ],
      "metadata": {
        "id": "2m78qmXhBQzN"
      }
    },
    {
      "cell_type": "code",
      "source": [
        "# Plot positional weight profile\n",
        "print(w_al)\n",
        "plt.bar(np.arange(9),w_al[0,])\n",
        "plt.xlabel('Position')\n",
        "plt.ylabel('Weight')"
      ],
      "metadata": {
        "colab": {
          "base_uri": "https://localhost:8080/",
          "height": 501
        },
        "id": "wOK5ecVqBboc",
        "outputId": "fa3714be-9f85-4953-c5ab-e4e703a2200a"
      },
      "execution_count": 68,
      "outputs": [
        {
          "output_type": "stream",
          "name": "stdout",
          "text": [
            "[[0.         0.02542373 0.8173258  1.         0.57438795 0.68926554\n",
            "  0.40112994 0.93596987 0.89736347]]\n"
          ]
        },
        {
          "output_type": "execute_result",
          "data": {
            "text/plain": [
              "Text(0, 0.5, 'Weight')"
            ]
          },
          "metadata": {},
          "execution_count": 68
        },
        {
          "output_type": "display_data",
          "data": {
            "text/plain": [
              "<Figure size 640x480 with 1 Axes>"
            ],
            "image/png": "[encoded data removed]"
          },
          "metadata": {}
        }
      ]
    },
    {
      "cell_type": "markdown",
      "source": [
        "We see that the positional weight profile have been updated quite a bit from the pan-TCR profile."
      ],
      "metadata": {
        "id": "mf0QrcDGB4qW"
      }
    },
    {
      "cell_type": "code",
      "source": [
        "# AL results: round 1\n",
        "print(auc_mean)"
      ],
      "metadata": {
        "colab": {
          "base_uri": "https://localhost:8080/"
        },
        "id": "tiWjeT1dimxx",
        "outputId": "dad0ce89-7946-4a05-ecb0-cd0764d1d4dd"
      },
      "execution_count": 69,
      "outputs": [
        {
          "output_type": "stream",
          "name": "stdout",
          "text": [
            "0.7098221413289907\n"
          ]
        }
      ]
    },
    {
      "cell_type": "markdown",
      "source": [
        "The AUC has also improved a lot than the pan-TCR AUC, with just 9 peptides sampled."
      ],
      "metadata": {
        "id": "AHIpV9YZCXi4"
      }
    },
    {
      "cell_type": "markdown",
      "source": [
        "Let's do one more round of AL with 9 more peptides sampled in the same way, except now, this time, we use the AL-inferred positional weight profile to inform the sampling. We update the train and test set by taking away 9 sampled peptides from the test set and adding them to the train set. We also specify which peptides are already sampled."
      ],
      "metadata": {
        "id": "ycZtruowCgG3"
      }
    },
    {
      "cell_type": "code",
      "source": [
        "# Round 2: Return peptides to sample\n",
        "al_peptides = return_peptides_to_sample(index_peptide_candidate_TCR, # index peptide\n",
        "                              inferred_matrix_pan, # AA matrix to find distance\n",
        "                              w_al, # AL-inferred positional weights\n",
        "                              al_train_set['peptide'].tolist() #sampled peptides\n",
        "                              )\n",
        "# Get labels for new peptides\n",
        "al_train_set_addition = test_data.loc[test_data['peptide'].isin(al_peptides)].copy()\n",
        "\n",
        "# Print new peptides\n",
        "print(al_train_set_addition['peptide'].to_numpy())\n",
        "\n",
        "# New train and test set\n",
        "al_train_set = pd.concat([al_train_set,al_train_set_addition])\n",
        "al_test_set = test_data.loc[test_data['peptide'].isin(al_train_set['peptide'])==False].copy()"
      ],
      "metadata": {
        "id": "6GxWLPmqktoy",
        "colab": {
          "base_uri": "https://localhost:8080/"
        },
        "outputId": "2e857509-22a7-4ead-b637-0fc0a2294816"
      },
      "execution_count": 70,
      "outputs": [
        {
          "output_type": "stream",
          "name": "stdout",
          "text": [
            "['ALVPMVATV' 'NPVPMVATV' 'NLAPMVATV' 'NLVQMVATV' 'NLVPNVATV' 'NLVPMEATV'\n",
            " 'NLVPMVRTV' 'NLVPMVASV' 'NLVPMVATM']\n"
          ]
        }
      ]
    },
    {
      "cell_type": "markdown",
      "source": [
        "Round 2 of AL will be similar as round 1, except that we will use positional weights from round 1 to construct priors for weights to be inferred."
      ],
      "metadata": {
        "id": "L8xU_nVUEb32"
      }
    },
    {
      "cell_type": "code",
      "source": [
        "# run AL: round 2\n",
        "w_al,auc_mean = active_learning_cycle(\n",
        "    al_train_set,al_test_set,\n",
        "    inferred_matrix_pan,\n",
        "    w_al, #AL-inferred weights\n",
        "    steps=20000,\n",
        "    seed=111)"
      ],
      "metadata": {
        "colab": {
          "base_uri": "https://localhost:8080/",
          "height": 109
        },
        "id": "FOMGmCqvlGAf",
        "outputId": "78cdf633-2a8a-40ca-bc13-22ec94f1415f"
      },
      "execution_count": 71,
      "outputs": [
        {
          "output_type": "stream",
          "name": "stderr",
          "text": [
            "/usr/local/lib/python3.10/dist-packages/pymc/distributions/transforms.py:58: FutureWarning: univariate_ordered has been deprecated, use ordered instead.\n",
            "  warnings.warn(f\"{name} has been deprecated, use ordered instead.\", FutureWarning)\n"
          ]
        },
        {
          "output_type": "display_data",
          "data": {
            "text/plain": [
              "<IPython.core.display.HTML object>"
            ],
            "text/html": [
              "\n",
              "<style>\n",
              "    /* Turns off some styling */\n",
              "    progress {\n",
              "        /* gets rid of default border in Firefox and Opera. */\n",
              "        border: none;\n",
              "        /* Needs to be in here for Safari polyfill so background images work as expected. */\n",
              "        background-size: auto;\n",
              "    }\n",
              "    progress:not([value]), progress:not([value])::-webkit-progress-bar {\n",
              "        background: repeating-linear-gradient(45deg, #7e7e7e, #7e7e7e 10px, #5c5c5c 10px, #5c5c5c 20px);\n",
              "    }\n",
              "    .progress-bar-interrupted, .progress-bar-interrupted::-webkit-progress-bar {\n",
              "        background: #F44336;\n",
              "    }\n",
              "</style>\n"
            ]
          },
          "metadata": {}
        },
        {
          "output_type": "display_data",
          "data": {
            "text/plain": [
              "<IPython.core.display.HTML object>"
            ],
            "text/html": [
              "\n",
              "    <div>\n",
              "      <progress value='20000' class='' max='20000' style='width:300px; height:20px; vertical-align: middle;'></progress>\n",
              "      100.00% [20000/20000 00:07&lt;00:00 Average Loss = 23.415]\n",
              "    </div>\n",
              "    "
            ]
          },
          "metadata": {}
        },
        {
          "output_type": "stream",
          "name": "stderr",
          "text": [
            "Shape validation failed: input_shape: (1, 50000), minimum_shape: (chains=2, draws=4)\n"
          ]
        }
      ]
    },
    {
      "cell_type": "markdown",
      "source": [
        "We can plot the weight profile and AUC after 2 AL rounds."
      ],
      "metadata": {
        "id": "D_VocXvQE_kj"
      }
    },
    {
      "cell_type": "code",
      "source": [
        "# AL results: round 2\n",
        "# Plot positional weight profile\n",
        "print(w_al)\n",
        "plt.bar(np.arange(9),w_al[0,])\n",
        "plt.xlabel('Position')\n",
        "plt.ylabel('Weight')\n",
        "\n",
        "# Print AUC\n",
        "print(auc_mean)"
      ],
      "metadata": {
        "colab": {
          "base_uri": "https://localhost:8080/",
          "height": 518
        },
        "id": "liBjWvwjlzFj",
        "outputId": "1b250960-6813-4c56-9837-6e938f98598d"
      },
      "execution_count": 72,
      "outputs": [
        {
          "output_type": "stream",
          "name": "stdout",
          "text": [
            "[[0.00000000e+00 5.23012552e-04 7.20711297e-01 1.00000000e+00\n",
            "  4.59728033e-01 7.14958159e-01 5.35564854e-01 7.06589958e-01\n",
            "  6.93514644e-01]]\n",
            "0.721281045751634\n"
          ]
        },
        {
          "output_type": "display_data",
          "data": {
            "text/plain": [
              "<Figure size 640x480 with 1 Axes>"
            ],
            "image/png": "[encoded data removed]"
          },
          "metadata": {}
        }
      ]
    },
    {
      "cell_type": "markdown",
      "source": [
        "The weight profile is changed only slightly from the previous round, indicating we are nearing convergence. The AUC has also improved a bit from the last round."
      ],
      "metadata": {
        "id": "4ieNvGs8G3Ie"
      }
    }
  ]
}