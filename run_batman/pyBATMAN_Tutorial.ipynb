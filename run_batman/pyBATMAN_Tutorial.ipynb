{
  "nbformat": 4,
  "nbformat_minor": 0,
  "metadata": {
    "colab": {
      "provenance": []
    },
    "kernelspec": {
      "name": "python3",
      "display_name": "Python 3"
    },
    "language_info": {
      "name": "python"
    }
  },
  "cells": [
    {
      "cell_type": "markdown",
      "source": [
        "**BATMAN: Bayesian inference of Activation of TCR by Mutant Antigens🦇**\n",
        "\n",
        "\n",
        "---\n",
        "\n",
        "\n",
        "# Introduction\n",
        "A single T Cell Receptor (TCR) can recognize a diverse variety of peptides, an essential property known as TCR cross-reactivity. Predicting which peptides a TCR cross-reacts to is critical for numerous applications, including predicting viral escape, cancer neoantigen immunogenicity, autoimmunity, and off-target toxicity of T-cell-based therapies. But predicting TCR activation is challenging due to the lack of both unbiased benchmarking datasets and computational methods that are sensitive to small mutations to an epitope. To address these challenges, we developed an interpretable Bayesian model, called BATMAN, that can predict the set of epitopes that activate a TCR. When validated on our database, BATMAN outperforms existing methods by 20% and reveals important biochemical predictors of TCR-peptide interactions."
      ],
      "metadata": {
        "id": "yiBDfYjt0zk1"
      }
    },
    {
      "cell_type": "markdown",
      "source": [
        "BATMAN predicts TCR activation by mutant peptides based on their distances to the TCR's index peptide. The peptide-to-index distance is a product of a learned positional weight profile vector, corresponding to effects of mutated residues at different positions in the sequence, and a learned AA substitution distance from the index peptide amino acid to the mutant amino acid.\n",
        "\n",
        "![Fig1v6.jpg](data:image/jpeg;base64,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)"
      ],
      "metadata": {
        "id": "OUBq56Uij4Fv"
      }
    },
    {
      "cell_type": "markdown",
      "source": [
        "BATMAN can be trained in two modes: (1) within-TCR, where the train and test peptides are associated with the same TCR, and BATMAN-inferred positional weight profiles are TCR-specific, and (2) leave-one-TCR-out, where peptides are tested for activation of a TCR left out of the training data, and BATMAN-inferred positional weight profile is common across all TCRs.\n",
        "\n",
        "For more information, refer to our preprint!\n",
        "\n",
        "🦇🦇🦇🦇🦇🦇🦇🦇🦇🦇🦇🦇🦇🦇🦇🦇🦇🦇🦇🦇🦇🦇🦇🦇🦇🦇🦇🦇🦇🦇🦇🦇🦇🦇🦇🦇🦇🦇🦇🦇"
      ],
      "metadata": {
        "id": "86_tMfpD0e2i"
      }
    },
    {
      "cell_type": "markdown",
      "source": [
        "In this notebook we will work with the Python implementation of BATMAN, named 'pyBATMAN'. After installing pyBATMAN, we will train and validate it using a sample dataset in both within-TCR and leave-one-TCR-out modes. Finally, we will have a look at the learned positional weight profiles and amino acid substitution distance matrices to check if they make sense."
      ],
      "metadata": {
        "id": "0x_5e1tNkjvY"
      }
    },
    {
      "cell_type": "markdown",
      "source": [
        "# Installing pyBATMAN\n",
        "\n",
        "pyBATMAN requires Python v3.11 to run, which is slightly newer than the version currently used by Colab (v3.10). So we will first install Python v3.11 and set the colab paths to the installed package folder so that we can work with Python v3.11 in Colab."
      ],
      "metadata": {
        "id": "bSDc3VZ9lpML"
      }
    },
    {
      "cell_type": "code",
      "execution_count": null,
      "metadata": {
        "id": "X-nt59KfsnJv"
      },
      "outputs": [],
      "source": [
        "# Install python v3.11 to work with pyBATMAN\n",
        "!sudo apt-get update -y\n",
        "!sudo apt-get install python3.11 python3.11-dev python3.11-distutils libpython3.11-dev\n",
        "!sudo update-alternatives --install /usr/bin/python3 python3 /usr/bin/python3.11 2\n",
        "!sudo update-alternatives --config python3\n",
        "\n",
        "# install pip\n",
        "!curl https://bootstrap.pypa.io/get-pip.py -o get-pip.py\n",
        "!python3 get-pip.py --force-reinstall\n",
        "\n",
        "# Add packages to system path\n",
        "import sys\n",
        "sys.path.append(\"/usr/local/lib/python3.11/dist-packages\")"
      ]
    },
    {
      "cell_type": "markdown",
      "source": [
        "Then we will pip install pyBATMAN in the usual way."
      ],
      "metadata": {
        "id": "NZEs1EilmaM6"
      }
    },
    {
      "cell_type": "code",
      "source": [
        "# Install pyBATMAN\n",
        "!pip install pybatman"
      ],
      "metadata": {
        "id": "JOLa1U90vHZR"
      },
      "execution_count": null,
      "outputs": []
    },
    {
      "cell_type": "markdown",
      "source": [
        "For future usage, we will import two key functions from pyBATMAN (we will discuss later what they do), and also import some usual Python packages for downstream analysis of BATMAN outputs."
      ],
      "metadata": {
        "id": "fNnDQtBymhgK"
      }
    },
    {
      "cell_type": "code",
      "source": [
        "# Load two main functions from pyBATMAN\n",
        "from pybatman.functions import train, peptide2index\n",
        "\n",
        "# Import packages for downstream analysis of BATMAN outputs\n",
        "import numpy as np\n",
        "import pandas as pd\n",
        "import matplotlib.pyplot as plt\n",
        "from sklearn.metrics import RocCurveDisplay\n",
        "import seaborn as sns"
      ],
      "metadata": {
        "id": "4UkgiHZy2gQi"
      },
      "execution_count": 8,
      "outputs": []
    },
    {
      "cell_type": "markdown",
      "source": [
        "# Uploading sample TCR-pMHC dataset\n",
        "\n",
        "Now we will need to upload a sample TCR-pMHC dataset to train and validate pyBATMAN. Download the 'test_input.csv' file from the [BATMAN project GitHub link](https://github.com/meyer-lab-cshl/BATMAN-paper/blob/main/run_batman/test_input.csv) and upload it to Colab.\n",
        "\n",
        "Voila! We are all set to fly now🦇!"
      ],
      "metadata": {
        "id": "IDbdyn5pmzvD"
      }
    },
    {
      "cell_type": "markdown",
      "source": [
        "To familiarize with the dataset, let's read it here and print its top 5 entries."
      ],
      "metadata": {
        "id": "ikgDHnJOoZ08"
      }
    },
    {
      "cell_type": "code",
      "source": [
        "# Read full dataset\n",
        "full_peptide_data = pd.read_csv('test_input.csv')\n",
        "\n",
        "# Sneak-peak into the data\n",
        "print(full_peptide_data.head(5))"
      ],
      "metadata": {
        "id": "bJ9dE-5yoiYk"
      },
      "execution_count": null,
      "outputs": []
    },
    {
      "cell_type": "markdown",
      "source": [
        "The dataset contains 4 columns: tcr and peptide refer to the name of the TCR and sequence of the peptide respectively in a TCR-pMHC pair. \"index\" refers to the index peptide of the TCR. Finally, \"activation\" refers to ordered categorical activation level of the TCR, when it interacts with the indicated peptide: 0 means no activation, 1 means weak activation, and 2 means strong activation. The dataset has 7 TCRs, with names \"TCR1\", \"TCR2\",...,\"TCR7\". You can display them below."
      ],
      "metadata": {
        "id": "hW96OsgYoqsd"
      }
    },
    {
      "cell_type": "code",
      "source": [
        "print(pd.unique(full_peptide_data.tcr))"
      ],
      "metadata": {
        "id": "vo2jhd48pZwx"
      },
      "execution_count": null,
      "outputs": []
    },
    {
      "cell_type": "markdown",
      "source": [
        "The data is sourced from the paper: \"Neoantigen quality predicts immunoediting in survivors of pancreatic cancer\", [Nature, volume 606, pages 389-395 (2022)](https://www.nature.com/articles/s41586-022-04735-9) figures 3d and 3f."
      ],
      "metadata": {
        "id": "nLB-A0wdpgBv"
      }
    },
    {
      "cell_type": "markdown",
      "source": [
        "# Within-TCR classification by BATMAN"
      ],
      "metadata": {
        "id": "VL5WSF0ynsGB"
      }
    },
    {
      "cell_type": "markdown",
      "source": [
        "We will split the full dataset into train (90%) and test (10%) subset. Both will contain data from all 7 TCRs present in the dataset. We will combine training data across all these TCRs to learn common features of TCR-pMHC interactions (e.g., the amino acid substitution distance matrix), but will infer 7 individual positional weight profiles with BATMAN."
      ],
      "metadata": {
        "id": "3NO4PcUC3A9J"
      }
    },
    {
      "cell_type": "code",
      "source": [
        "# Generate random array of about 90% 1s and 10% 0s following binomial distribution\n",
        "np.random.seed(0) #Random seed for reproducible results\n",
        "train_test_index = np.random.binomial(n=1, p=0.9,\n",
        "                                      size=len(full_peptide_data))\n",
        "# # Split data into train (90%) and test (10%) and save train and test data\n",
        "train_data = full_peptide_data[train_test_index==1]\n",
        "train_data.to_csv('train.csv')\n",
        "\n",
        "test_data = full_peptide_data[train_test_index==0]\n",
        "test_data.to_csv('test.csv')"
      ],
      "metadata": {
        "id": "2XXjXQhUAqn4"
      },
      "execution_count": 11,
      "outputs": []
    },
    {
      "cell_type": "markdown",
      "source": [
        "One final ingredient before we train BATMAN. Even though BATMAN learns custom AA substitution matrix from data, we need to specify a good prior for that, so that BATMAN does not overfit the data.\n",
        "\n",
        "Conveniently, pyBATMAN comes with dozens of pre-saved conventional amino acid substitution distance matrices (e.g., hamming, blosum62, blosum100, pam30, pam100, dayhoff, gonnet etc), and we can use one of them. Alternatively, we can also upload custom amino acid substitution matrix as a datafile and pass it to pyBATMAN as a 20-by-20 Pandas dataframe with amino acid letters as row and column names."
      ],
      "metadata": {
        "id": "pW2ZXFFL4XuU"
      }
    },
    {
      "cell_type": "code",
      "source": [
        "# Load a pre-saved amino acid matrix prior by its name\n",
        "AA_matrix_name = 'blosum100' #(you can change it to others, e.g., hamming, blosum62, pam30 etc)\n",
        "AA_matrix_prior = pd.read_csv(''.join(['/usr/local/lib/python3.11/dist-packages/',\n",
        "                                       'pybatman/data/AA_matrices/',\n",
        "                                       AA_matrix_name,'.csv']),index_col=0)"
      ],
      "metadata": {
        "id": "FJtNVS7FIpdF"
      },
      "execution_count": 12,
      "outputs": []
    },
    {
      "cell_type": "markdown",
      "source": [
        "Finally, we are all set to train pyBATMAN to infer TCR-specific positional weight profiles and an amino acid distance matrix.\n",
        "\n",
        "BATMAN performs approximate Bayesian inference with automatic differentiation variational inference (ADVI) method to learn the weight profiles and amino acid matrices. You can optionally specify the number of steps in this method (default=20,000) and check that the loss function converges. pyBATMAN runs in 3 modes: (1) \"full\", which we will use below and is the most general one working without any constraint, (2) \"symm\", where we constrain the inferred amino acid matrix to be symmetric, and (3) \"weight_only\" where we only infer positional weights and directly use the amino acid distance matrix supplied without inferring amy amino acid matrix.\n",
        "\n",
        "Wait for a few minutes as pyBATMAN sets up the Bayesian model, after which you will be able to see the progress bar as pyBATMAN is trained."
      ],
      "metadata": {
        "id": "fDMhWXw95-Tx"
      }
    },
    {
      "cell_type": "code",
      "source": [
        "#Train pyBATMAN and infer full asymmetric AA matrix and TCR-specific weights\n",
        "inferred_weights, inferred_AA_matrix = train('train.csv','full',\n",
        "                                             AA_matrix_prior,\n",
        "                                             steps=50000, seed=10)"
      ],
      "metadata": {
        "id": "L_W4KyD_31RM"
      },
      "execution_count": null,
      "outputs": []
    },
    {
      "cell_type": "markdown",
      "source": [
        "Okay, we made it! We trained BATMAN on our data, now it is time to apply the trained model to test data and visualize and interpret results.\n",
        "\n",
        "But first, let's have a look at the inferred TCR-specific weight profiles."
      ],
      "metadata": {
        "id": "Ysb-I9A28c9a"
      }
    },
    {
      "cell_type": "code",
      "source": [
        "# Print TCR-specific positional weight profiles (just to see them)\n",
        "print(inferred_weights)"
      ],
      "metadata": {
        "id": "qCVHV_azI1tR"
      },
      "execution_count": null,
      "outputs": []
    },
    {
      "cell_type": "markdown",
      "source": [
        "So pyBATMAN indeed inferred positional weights for individual TCRs, even if it was trained jointly on them. Note how the weights peak near the middle positions of the peptide chain, where TCR-binding motifs are often located."
      ],
      "metadata": {
        "id": "39f4wkOg8wcq"
      }
    },
    {
      "cell_type": "markdown",
      "source": [
        "Now let's have a look at the what amino acid substituion matrix BATMAN inferred. For better visualization, we order the amino acids according to their hydrophobicity and plot three matrices: the full inferred amino acid substitution matrix, as well as its symmetric and anti-symmetric part."
      ],
      "metadata": {
        "id": "Oj2Qc6SM-NXd"
      }
    },
    {
      "cell_type": "code",
      "source": [
        "#visualize inferred matrices (symm and antisymm part)\n",
        "# Order AAs according to decreasing hydrophobicity\n",
        "AA_list = ['I','V','L','F','C','M','A','W','G','T','S','Y',\n",
        "           'P','H','N','D','Q','E','K','R']\n",
        "\n",
        "# Load inferred amino acid distance matrix\n",
        "AA_distance_matrix = inferred_AA_matrix.loc[AA_list,AA_list]\n",
        "\n",
        "# plot heatmaps\n",
        "sns.set_theme(style=\"whitegrid\")\n",
        "plt.figure(figsize=(15, 5))\n",
        "plt.suptitle('Inferred AA substitution distance matrix from BATMAN')\n",
        "\n",
        "plt.subplot(1, 3, 1)\n",
        "sns.heatmap(AA_distance_matrix,cmap=\"Blues\",\n",
        "            yticklabels=AA_list,\n",
        "            xticklabels=AA_list,\n",
        "            square=1)\n",
        "plt.yticks(rotation=0);\n",
        "plt.xlabel('To AA');\n",
        "plt.ylabel('From AA');\n",
        "plt.title('Full matrix');\n",
        "\n",
        "plt.subplot(1, 3, 2)\n",
        "sns.heatmap((AA_distance_matrix+np.transpose(AA_distance_matrix))/2,\n",
        "            cmap=\"Blues\",\n",
        "            yticklabels=AA_list,\n",
        "            xticklabels=AA_list,\n",
        "            square=1)\n",
        "plt.yticks(rotation=0);\n",
        "plt.xlabel('To AA');\n",
        "plt.ylabel('From AA');\n",
        "plt.title('Symmetric part');\n",
        "\n",
        "plt.subplot(1, 3, 3)\n",
        "sns.heatmap((-AA_distance_matrix+np.transpose(AA_distance_matrix))/2,\n",
        "            cmap=\"coolwarm_r\",\n",
        "            yticklabels=AA_list,\n",
        "            xticklabels=AA_list,\n",
        "            square=1)\n",
        "plt.yticks(rotation=0);\n",
        "plt.xlabel('To AA');\n",
        "plt.ylabel('From AA');\n",
        "plt.title('Anti-symmetric part');"
      ],
      "metadata": {
        "id": "AmpI9HN8iTHA"
      },
      "execution_count": null,
      "outputs": []
    },
    {
      "cell_type": "markdown",
      "source": [
        "The symmetric part shows that large distances are associated with hydrophobic to hydrophilic substitutions and vice versa. The anti-symmetric part shows that, e.g., if you substitute out isoleucine (I), you lose TCR activation, and you gain activation by bringing in I. So TCRs are seen to favor hydrophobic residues, which was previously known in literature, but BATMAN quantified it using the data."
      ],
      "metadata": {
        "id": "aVQgv1Dd-qpO"
      }
    },
    {
      "cell_type": "markdown",
      "source": [
        "Finally, judgement day! How good are BATMAN inferred weights and amino matrix in predicting TCR activation by mutants? In order to validate that, we use a scalar quantity, called peptide-to-index distance function, which multiplies the inferred positional weight of the mutation position and the inferred amino acid matrix element corresponding to the mutation to generate a distance between the TCR index peptide and mutant peptide.\n",
        "\n",
        "We calculate this distance for all mutant peptides corresponding to a chosen TCR in the test data and plot a ROC curve for class 0-(1,2) classification based on the distance."
      ],
      "metadata": {
        "id": "ILswvXgfADiK"
      }
    },
    {
      "cell_type": "code",
      "source": [
        "# Generate peptide2index distances for test data from a selected TCR with trained pyBATMAN\n",
        "\n",
        "# Pick a TCR to test\n",
        "tcr_name = 'TCR1'\n",
        "\n",
        "#Read test data\n",
        "peptide_data = pd.read_csv('test.csv')\n",
        "\n",
        "# Extract index peptide and mutant peptide list for the particular TCR\n",
        "index_peptide = peptide_data[peptide_data.tcr==tcr_name]['index'].tolist()\n",
        "\n",
        "mutant_peptide_list = peptide_data[peptide_data.tcr==\n",
        "                                   tcr_name]['peptide'].tolist()\n",
        "\n",
        "# Activation levels of the selected TCR against mutants\n",
        "activation =  peptide_data[peptide_data.tcr==\n",
        "                                   tcr_name]['activation'].to_numpy()\n",
        "\n",
        "# BATMAN-inferred positional weight profile for the selected TCR\n",
        "weight_profile = inferred_weights.loc[[tcr_name]].to_numpy()\n",
        "\n",
        "# Generate peptide-to-index distances with pyBATMAN\n",
        "peptide_distance = peptide2index(index_peptide,\n",
        "                                 mutant_peptide_list,\n",
        "                                 inferred_AA_matrix,\n",
        "                                 weight_profile)\n",
        "\n",
        "#Plot ROC based on peptides-to-index distances for 0 and (1,2) classes\n",
        "activation[activation==2]=1\n",
        "\n",
        "RocCurveDisplay.from_predictions(\n",
        "    activation,\n",
        "    -peptide_distance, pos_label = 1, #-ve sign since weaker binders are further\n",
        "    color=\"darkorange\")\n",
        "plt.axis(\"square\")\n",
        "plt.xlabel(\"False Positive Rate\")\n",
        "plt.ylabel(\"True Positive Rate\")\n",
        "plt.title(\"0-vs-(1,2) ROC curve\")\n",
        "plt.legend()\n",
        "plt.show()"
      ],
      "metadata": {
        "id": "PW6_lx4cOntI"
      },
      "execution_count": null,
      "outputs": []
    },
    {
      "cell_type": "markdown",
      "source": [
        "Pretty good! You can now play with pyBATMAN specifications (e.g., training mode, prior matrix, and number of steps) to see if you can improve the performance and see how it varies from one test TCR data to another."
      ],
      "metadata": {
        "id": "3SMFghXcBhn8"
      }
    },
    {
      "cell_type": "markdown",
      "source": [
        "# Leave-one-TCR-out classification by BATMAN"
      ],
      "metadata": {
        "id": "snUqojwr154N"
      }
    },
    {
      "cell_type": "markdown",
      "source": [
        "For leave-one-TCR-out training, we split the dataset across TCRs - training dataset has full data from 6 TCRs, and test data has full data from the 7th TCR in the dataset. Again, we will combine training data across all training data TCRs to learn common features of TCR-pMHC interactions (e.g., the amino acid substitution distance matrix), but this time we will infer a single positional weight profile with BATMAN, which we will subsequently use to calculate mutant-to-index distances of the peptides corresponding to the left out test TCR."
      ],
      "metadata": {
        "id": "ZAWzxtjECkXz"
      }
    },
    {
      "cell_type": "markdown",
      "source": [
        "A trick so that pyBATMAN does infer a pan-TCR single weight profile: we rename all 6 TCRs in the training dataset by a common name, to force pyBATMAN to think the data comes from a single TCR."
      ],
      "metadata": {
        "id": "-MVobvIOH5dO"
      }
    },
    {
      "cell_type": "code",
      "source": [
        "# We split full data into train and test, leaving one TCR out\n",
        "left_out_TCR = 'TCR7'\n",
        "\n",
        "# Split and save train and test data\n",
        "train_data = full_peptide_data[full_peptide_data.tcr!=left_out_TCR].copy()\n",
        "# The trick to name all TCRs the same so that BATMAN gives a single weight profile\n",
        "train_data.tcr = 'TCR'\n",
        "train_data.to_csv('train.csv')\n",
        "\n",
        "test_data = full_peptide_data[full_peptide_data.tcr==left_out_TCR]\n",
        "test_data.to_csv('test.csv')"
      ],
      "metadata": {
        "id": "tdKWzfTmSXlh"
      },
      "execution_count": 17,
      "outputs": []
    },
    {
      "cell_type": "markdown",
      "source": [
        "Load an amino acid substitution matrix prior as before."
      ],
      "metadata": {
        "id": "pUFcdf-QILOk"
      }
    },
    {
      "cell_type": "code",
      "source": [
        "# (Note that for some reason, pyBATMAN is not able to load AA matrix data, so we load it explicitly)\n",
        "AA_matrix_name = 'blosum100' #(you can change it to others, e.g., hamming, blosum62, pam30 etc)\n",
        "AA_matrix_prior = pd.read_csv(''.join(['/usr/local/lib/python3.11/dist-packages/',\n",
        "                                       'pybatman/data/AA_matrices/',\n",
        "                                       AA_matrix_name,'.csv']),index_col=0)"
      ],
      "metadata": {
        "id": "_IfVJn1sdANQ"
      },
      "execution_count": 18,
      "outputs": []
    },
    {
      "cell_type": "markdown",
      "source": [
        "Train pyBATMAN as before. Wait for a few minutes as BATMAN sets up the Bayesian model, after which you will be able to see the progress bar.\n"
      ],
      "metadata": {
        "id": "_UrS_CckIYab"
      }
    },
    {
      "cell_type": "code",
      "source": [
        "#Train pyBATMAN and infer full asymmetric AA matrix and TCR-specific weights\n",
        "inferred_weights, inferred_AA_matrix = train('train.csv','full',\n",
        "                                             AA_matrix_prior,\n",
        "                                             steps=50000, seed=20)"
      ],
      "metadata": {
        "id": "uGLluO_adANQ"
      },
      "execution_count": null,
      "outputs": []
    },
    {
      "cell_type": "markdown",
      "source": [
        "Print inferred weight profile and see that there is indeed a single pan-TCR weight profile. This also peaks near the middle of the peptide chain, since this is a common feature across all TCRs in our dataset."
      ],
      "metadata": {
        "id": "k5DnCJZJIiZ5"
      }
    },
    {
      "cell_type": "code",
      "source": [
        "# Print positional weight profile (Check that there is a single one)\n",
        "print(inferred_weights)"
      ],
      "metadata": {
        "id": "XKd6ZaD5dANQ"
      },
      "execution_count": null,
      "outputs": []
    },
    {
      "cell_type": "markdown",
      "source": [
        "Visualize the inferred amino acid substitution matrix like before."
      ],
      "metadata": {
        "id": "9CkdAWAeI7bn"
      }
    },
    {
      "cell_type": "code",
      "source": [
        "#visualize inferred matrices (symm and antisymm part)\n",
        "# Order AAs according to decreasing hydrophobicity\n",
        "AA_list = ['I','V','L','F','C','M','A','W','G','T','S','Y',\n",
        "           'P','H','N','D','Q','E','K','R']\n",
        "\n",
        "# Load inferred amino acid distance matrix\n",
        "AA_distance_matrix = inferred_AA_matrix.loc[AA_list,AA_list]\n",
        "\n",
        "# plot heatmaps\n",
        "sns.set_theme(style=\"whitegrid\")\n",
        "plt.figure(figsize=(15, 5))\n",
        "plt.suptitle('Inferred AA substitution distance matrix from BATMAN')\n",
        "\n",
        "plt.subplot(1, 3, 1)\n",
        "sns.heatmap(AA_distance_matrix,cmap=\"Blues\",\n",
        "            yticklabels=AA_list,\n",
        "            xticklabels=AA_list,\n",
        "            square=1)\n",
        "plt.yticks(rotation=0);\n",
        "plt.xlabel('To AA');\n",
        "plt.ylabel('From AA');\n",
        "plt.title('Full matrix');\n",
        "\n",
        "plt.subplot(1, 3, 2)\n",
        "sns.heatmap((AA_distance_matrix+np.transpose(AA_distance_matrix))/2,\n",
        "            cmap=\"Blues\",\n",
        "            yticklabels=AA_list,\n",
        "            xticklabels=AA_list,\n",
        "            square=1)\n",
        "plt.yticks(rotation=0);\n",
        "plt.xlabel('To AA');\n",
        "plt.ylabel('From AA');\n",
        "plt.title('Symmetric part');\n",
        "\n",
        "plt.subplot(1, 3, 3)\n",
        "sns.heatmap((-AA_distance_matrix+np.transpose(AA_distance_matrix))/2,\n",
        "            cmap=\"coolwarm_r\",\n",
        "            yticklabels=AA_list,\n",
        "            xticklabels=AA_list,\n",
        "            square=1)\n",
        "plt.yticks(rotation=0);\n",
        "plt.xlabel('To AA');\n",
        "plt.ylabel('From AA');\n",
        "plt.title('Anti-symmetric part');"
      ],
      "metadata": {
        "id": "M0NAbBwIdANR"
      },
      "execution_count": null,
      "outputs": []
    },
    {
      "cell_type": "markdown",
      "source": [
        "Finally, plot the ROC curved for the left out TCR, based on the mutant-to-index distances of peptides calculated using BATMAN-inferred pan-TCR positional weight profile and amino acid matrix."
      ],
      "metadata": {
        "id": "8aAgQwaWJB8x"
      }
    },
    {
      "cell_type": "code",
      "source": [
        "#Generate peptide2index distances for test data from a selected TCR with trained pyBATMAN\n",
        "#Read data\n",
        "peptide_data = pd.read_csv('test.csv')\n",
        "\n",
        "# Extract data for a particular TCR\n",
        "tcr_name = left_out_TCR\n",
        "\n",
        "index_peptide = peptide_data[peptide_data.tcr==tcr_name]['index'].tolist()\n",
        "\n",
        "mutant_peptide_list = peptide_data[peptide_data.tcr==\n",
        "                                   tcr_name]['peptide'].tolist()\n",
        "\n",
        "# Activation levels of the selected TCR against mutants\n",
        "activation =  peptide_data[peptide_data.tcr==\n",
        "                                   tcr_name]['activation'].to_numpy()\n",
        "\n",
        "# Inferred pan-TCR positional weight profile\n",
        "weight_profile = inferred_weights.to_numpy()\n",
        "\n",
        "# generate peptide-to-index distances with pyBATMAN\n",
        "peptide_distance = peptide2index(index_peptide,\n",
        "                                 mutant_peptide_list,\n",
        "                                 inferred_AA_matrix,\n",
        "                                 weight_profile)\n",
        "\n",
        "#plot ROC based on peptides-to-index distances for 0 and (1,2) classes\n",
        "activation[activation==2]=1\n",
        "\n",
        "RocCurveDisplay.from_predictions(\n",
        "    activation,\n",
        "    -peptide_distance, pos_label = 1, #-ve sign since weaker binders are further\n",
        "    color=\"darkorange\")\n",
        "plt.axis(\"square\")\n",
        "plt.xlabel(\"False Positive Rate\")\n",
        "plt.ylabel(\"True Positive Rate\")\n",
        "plt.title(\"0-vs-(1,2) ROC curve\")\n",
        "plt.legend()\n",
        "plt.show()"
      ],
      "metadata": {
        "id": "dtGdRIEDdANR"
      },
      "execution_count": null,
      "outputs": []
    },
    {
      "cell_type": "markdown",
      "source": [
        "Finally, upload you own TCR dataset as a csv file in the same format as ours to apply pyBATMAN on your data and visualize results.\n",
        "\n",
        "🦇🦇🦇🦇🦇🦇🦇🦇🦇🦇🦇🦇🦇🦇🦇🦇🦇🦇🦇🦇🦇🦇🦇🦇🦇🦇🦇🦇🦇🦇🦇🦇🦇🦇🦇🦇🦇🦇🦇🦇"
      ],
      "metadata": {
        "id": "Sd2KEMFlJYcd"
      }
    }
  ]
}